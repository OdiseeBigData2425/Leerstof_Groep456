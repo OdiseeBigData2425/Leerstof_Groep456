{
 "cells": [
  {
   "cell_type": "markdown",
   "metadata": {},
   "source": [
    "# YARN\n",
    "\n",
    "Deze notebook verkent de mogelijkheden van het configureren van de Resource Manager binnen Hadoop.\n",
    "Dit gaan we verkennen in het uitvoeren van de volgende stappen:\n",
    "* Bestuderen van de Yarn-UI\n",
    "* Beperken van de beschikbare cpu-cores en ram geheugen van de datanode\n",
    "* Aanmaken van een extra resource type voor het aantal beschikbare GPU en GPU-memory (VRAM)\n",
    "* Aangeven dat de single node van onze cluster beschikt over 1 GPU met 4 GB VRAM\n",
    "* Aanmaken van een resource profile met 1 GPU en 2 GB VRAM\n",
    "\n",
    "## Yarn UI\n",
    "\n",
    "De UI geeft een reeks informatie over de beschikbare nodes in de cluster, de capabiliteiten van deze nodes en de applicatie die gescheduled, werkende, gefaald of geslaagd zijn.\n",
    "De standaardlink voor deze UI te bekijken is: [http://localhost:8088](http://localhost:8088)\n",
    "Deze ziet er uit als volgt:\n",
    "\n",
    "![Yarn - homepage](images/ui_001.png)\n",
    "\n",
    "waarbij de pagina met de informatie over de nodes eruit ziet als volgt:\n",
    "\n",
    "![Yarn - node capabilities](images/ui_002.png)\n",
    "\n",
    "## Beperken aantal cpu's en ram\n",
    "\n",
    "De staardinstellingen voor het aantal cores en ram-geheugen dat beschikbaar is op een node is respectievelijk 8 cores en 8 GB Ram.\n",
    "Dit is te veel voor de toepassingen die we momenteel gaan gebruiken en kan ook vaak niet gehaald worden door een laptop.\n",
    "Om deze reden gaan we eerst dit beperken zodat we de laptop niet overbelasten.\n",
    "\n",
    "Dit kan zowel in de yarn-site.xml of in de node-resources.xml file gedaan worden door het volgende toe te voegen.\n",
    "\n",
    "    <property>\n",
    "\t\t  <description>Max available memory on each data node.</description>\n",
    "\t\t  <name>yarn.nodemanager.resource.memory-mb</name>\n",
    "\t\t  <value>2048</value>\n",
    "\t</property>\n",
    "\n",
    "\t<property>\n",
    "\t\t<description>Max available cores data node.</description>\n",
    "\t\t<name>yarn.nodemanager.resource.cpu-vcores</name>\n",
    "\t\t<value>4</value>\n",
    "\t</property>\n",
    "\n",
    "**Welke waarden voor aantal cores en beschikbaar geheugen worden ingesteld door het bovenstaande te kiezen?**\n",
    "\n",
    "<details>\n",
    "  <summary>Klik hier voor het antwoord</summary>\n",
    "\n",
    "  ![Yarn UI limited](images/limited.png)\n",
    "</details>\n",
    "\n",
    "Indien dit nog te veel is voor jouw PC/laptop, pas het nu aan naar een zelfgekozen waarde. Indien je de aanpassingen niet ziet verschijnen in de ui moet je waarschijnlijk nog de yarn restarten. Controleer met het commando jps of yarn correct opgestart is."
   ]
  },
  {
   "cell_type": "markdown",
   "metadata": {
    "pycharm": {
     "name": "#%% md\n"
    }
   },
   "source": [
    "## Extra Resource Types\n",
    "\n",
    "Standaard kan enkel het aantal cores en beschikbare ram-geheugen van een node bepaald worden.\n",
    "Indien we ook de hoeveelheid VRAM dat beschikbaar is op een node willen geven aan de resource manager voor een optimale scheduling uit te voeren moeten we dit type resource nog aanmaken.\n",
    "Het aanmaken van een resource type kan gedaan worden in yarn-site.xml of resource-types.xml door het volgende toe te voegen aan bijvoorbeeld resource-types.xml:\n",
    "\n",
    "    <property>\n",
    "        <name>yarn.resource-types</name>\n",
    "        <value>vram</value>\n",
    "    </property>\n",
    "    <property>\n",
    "        <name>yarn.resource-types.vram.units</name>\n",
    "        <value>G</value>\n",
    "    </property>\n",
    "\n",
    "    <property>\n",
    "        <name>yarn.resource-types.vram.minimum-allocation</name>\n",
    "        <value>0</value>\n",
    "    </property>\n",
    "\n",
    "    <property>\n",
    "        <name>yarn.resource-types.vram.maximum-allocation</name>\n",
    "        <value>1024</value>\n",
    "    </property>\n",
    "\n",
    "**Let op:** Indien de file resource-types.xml nog niet bestaat kan je hem toevoegen door een andere xml te kopieren en alles te verwijderen behalve de configuration tags. Het bovenstaande stukje code moet tussen de configuration tags staan.\n",
    "\n",
    "In bovenstaande stukje xml worden er drie zaken aangepast, namelijk:\n",
    "* yarn.resource-types: Dit is een csv lijst met alle extra resources. In dit geval is dit enk \"vram\".\n",
    "* yarn.resource-types.vram.units: Hier passen we de grootteorde aan van de waarden die we gebruiken voor het type vram (dit kan je doen per type via de naam van de variabele). De variabele G staat voor G of dus Gigabyte en andere opties kan je [hier](https://hadoop.apache.org/docs/stable/hadoop-yarn/hadoop-yarn-site/ResourceModel.html) vinden.\n",
    "* yarn.resource-types.vram.minimum-allocation: De minimale hoeveelheid die kan toegekend worden aan een container voor het uitvoeren van een applicatie\n",
    "* yarn.resource-types.vram.maximum-allocation: De maximale hoeveelheid die kan toegekend worden aan een enkele container.\n",
    "\n",
    "Merk op dat je ook de Default Resource Calculator moet aanpassen. Dit kan gedaan worden in de capacity-scheduler.xml door de volgende waarde aan te passen van\n",
    "\n",
    "    <property>\n",
    "\t\t  <name>yarn.scheduler.capacity.resource-calculator</name>\n",
    "\t\t  <value>org.apache.hadoop.yarn.util.resource.DefaultResourceCalculator</value>\n",
    "\t</property>\n",
    "\n",
    "naar\n",
    "\n",
    "    <property>\n",
    "\t\t  <name>yarn.scheduler.capacity.resource-calculator</name>\n",
    "\t\t  <value>org.apache.hadoop.yarn.util.resource.DominantResourceCalculator</value>\n",
    "\t</property>\n",
    "\n",
    "Na het toevoegen van dit resource type moet dit ook zichtbaar zijn in de UI, bijvoorbeeld:\n",
    "\n",
    "![Yarn UI with extra type](images/extraType.png)\n",
    "\n",
    "Voeg nu als oefening een extra resource-type toe voor het aantal gpu's beschikbaar in een node. Dit wordt uitgedrukt in eenheden en heeft een minimum waarde van 0 en een maximum waarde van 4."
   ]
  },
  {
   "cell_type": "markdown",
   "metadata": {},
   "source": [
    "## Aangeven van de mogelijkheden van de datanode\n",
    "\n",
    "In de vorige sectie hebben we twee nieuwe parameters toegevoegd om het mogelijk te maken van Yarn om rekening te houden met de grafische kaarten aanwezig in de verschillende nodes van de cluster en een minimum of maximum aantal dat toegekend kan worden.\n",
    "Er ontbreekt echter nog 1 element, namelijk de hoeveelheid resources waarover onze node beschikt.\n",
    "Dit kan gedaan worden in de node-resources.xml of yarn-site.xml.\n",
    "Elke node moet dit voor zichzelf instellen in zijn eigen configuratiefiles.\n",
    "Om het aantal cores en Ram-geheugen toe te voegen moet onderstaande xml toegevoegd worden:\n",
    "\n",
    "    <property>\n",
    "        <name>yarn.nodemanager.resource-type.vram</name>\n",
    "        <value>4G</value>\n",
    "    </property>\n",
    "\n",
    "Voeg nu als oefening ook een stuk code toe om aan te geven dat je over twee gpu's bezit."
   ]
  },
  {
   "cell_type": "markdown",
   "metadata": {
    "collapsed": true,
    "jupyter": {
     "outputs_hidden": true
    },
    "pycharm": {
     "name": "#%% md\n"
    }
   },
   "source": [
    "## Aanmaken resource profile\n",
    "\n",
    "Om het aanvragen van een set van resources te vereenvoudigen en veiliger te maken tegen fouten kunnen er profielen aangemaakt worden om de aangevraagde resources te standaardiseren.\n",
    "Hiervoor moeten we eerst het gebruik van profiles enablen. Dit kan door het volgende te plaatsen in de yarn-site.xml\n",
    "\n",
    "\t<property>\n",
    "\t\t<name>yarn.resourcemanager.resource-profiles.enabled</name>\n",
    "\t\t<value>true</value>\n",
    "\t</property>\n",
    "\n",
    "Daarna kan bijvoorbeeld onderstaande json gebruikt worden om 4 profiles te maken die een verschillende configuratie vereisen.\n",
    "\n",
    "    {\n",
    "        \"small\": {\n",
    "            \"memory-mb\" : 1024,\n",
    "            \"vcores\" : 1\n",
    "        },\n",
    "        \"default\" : {\n",
    "            \"memory-mb\" : 2048,\n",
    "            \"vcores\" : 2\n",
    "        },\n",
    "        \"large\" : {\n",
    "            \"memory-mb\": 4096,\n",
    "            \"vcores\" : 4\n",
    "        },\n",
    "        \"compute\" : {\n",
    "            \"memory-mb\" : 2048,\n",
    "            \"vcores\" : 2,\n",
    "            \"gpu\" : 1\n",
    "        }\n",
    "    }\n",
    "\n",
    "Deze json moet in een file met naam resource-profiles.json komen.\n",
    "Er is echter **1 groot nadeel** aan het gebruik van resource profiles verbonden.\n",
    "Momenteel is het werken met resource profiles voor resources te reserveren enkel gegarandeerd voor de Command Line Interface.\n",
    "\n",
    "## Rest API\n",
    "\n",
    "De YARN (Yet Another Resource Negotiator) REST API biedt een set URI-resources waarmee je toegang krijgt tot informatie over het YARN-cluster, de nodes, applicaties en historische gegevens van applicaties. Deze API’s zijn ontworpen om ontwikkelaars en beheerders te helpen bij het beheren en monitoren van hun YARN-clusters via eenvoudige HTTP-aanroepen.\n",
    "\n",
    "### Basisprincipes van de YARN REST API\n",
    "\n",
    "#### URI-structuur\n",
    "\n",
    "De URI’s voor de REST-gebaseerde webservices hebben de volgende syntaxis:\n",
    "````\n",
    "http://{http_address_of_service}/ws/{version}/{resourcepath}\n",
    "````\n",
    "\n",
    "* http_address_of_service: Het HTTP-adres van de service waarover je informatie wilt verkrijgen. Dit kan de ResourceManager, NodeManager, MapReduce Application Master of History Server zijn.\n",
    "* version: De versie van de API’s. In de huidige release is de versie v1.\n",
    "* resourcepath: Een pad dat een enkele resource of een verzameling resources definieert.\n",
    "\n",
    "#### HTTP-aanvragen\n",
    "Om een REST API aan te roepen, voert je applicatie een HTTP-operatie uit op de URI die is gekoppeld aan een resource. De YARN REST API ondersteunt voornamelijk de GET-methode, die informatie over de opgegeven resource ophaalt.\n",
    "\n",
    "#### Beveiliging\n",
    "De webservice REST API’s maken gebruik van dezelfde beveiligingsmechanismen als de web-UI. Als je clusterbeheerders filters hebben ingeschakeld, moet je je authenticeren via het opgegeven mechanisme.\n",
    "\n",
    "#### Headers\n",
    "De ondersteunde headers zijn onder andere:\n",
    "\n",
    "* Accept: Geeft het gewenste antwoordformaat aan (bijvoorbeeld application/json of application/xml).\n",
    "* Accept-Encoding: Ondersteunt momenteel alleen gzip-compressie (Accept-Encoding: gzip).\n",
    "\n",
    "### Belangrijke API’s en hun gebruik\n",
    "\n",
    "#### Clusterinformatie API\n",
    "\n",
    "Deze API biedt algemene informatie over het YARN-cluster, zoals de cluster-ID, de totale en beschikbare geheugen- en CPU-resources, en de status van de ResourceManager.\n",
    "\n",
    "Voorbeeld:\n",
    "````\n",
    "GET http://resourcemanager_host:port/ws/v1/cluster/info\n",
    "````\n",
    "\n",
    "#### Cluster metrics API\n",
    "\n",
    "Deze API biedt gedetailleerde statistieken over het cluster, zoals het aantal ingediende, voltooide, lopende en mislukte applicaties, evenals informatie over geheugen- en CPU-gebruik.\n",
    "\n",
    "Voorbeeld:\n",
    "````\n",
    "GET http://resourcemanager_host:port/ws/v1/cluster/metrics\n",
    "````\n",
    "\n",
    "#### Cluster nodes API\n",
    "\n",
    "Deze API biedt informatie over alle nodes in het YARN-cluster, inclusief de status, het totale en beschikbare geheugen, en de CPU-resources van elke node.\n",
    "\n",
    "Voorbeeld:\n",
    "````\n",
    "GET http://resourcemanager_host:port/ws/v1/cluster/nodes\n",
    "````\n",
    "\n",
    "#### Cluster applicaties API\n",
    "\n",
    "Deze API biedt een lijst van alle applicaties in het YARN-cluster, inclusief details zoals de naam, gebruiker, status en starttijd van elke applicatie.\n",
    "\n",
    "Voorbeeld:\n",
    "````\n",
    "GET http://resourcemanager_host:port/ws/v1/cluster/apps\n",
    "````\n",
    "\n",
    "#### Specifieke applicatie-informatie API\n",
    "\n",
    "Deze API biedt gedetailleerde informatie over een specifieke applicatie in het YARN-cluster, zoals de naam, gebruiker, queue, en starttijd.\n",
    "\n",
    "Voorbeeld:\n",
    "````\n",
    "GET http://resourcemanager_host:port/ws/v1/cluster/apps/{appId}\n",
    "````\n",
    "\n",
    "#### Voorbeeld van een JSON-response\n",
    "\n",
    "Hier is een voorbeeld van een JSON-response voor een aanvraag naar de clusterinformatie API:\n",
    "\n",
    "````json\n",
    "{\n",
    "  \"clusterInfo\": {\n",
    "    \"id\": 1324053971963,\n",
    "    \"startedOn\": 1324053971963,\n",
    "    \"state\": \"STARTED\",\n",
    "    \"haState\": \"ACTIVE\",\n",
    "    \"rmStateStoreName\": \"org.apache.hadoop.yarn.server.resourcemanager.recovery.NullRMStateStore\",\n",
    "    \"resourceManagerVersion\": \"3.0.0-SNAPSHOT\",\n",
    "    \"resourceManagerBuildVersion\": \"3.0.0-SNAPSHOT from unknown by user1 source checksum 11111111111111111111111111111111\",\n",
    "    \"resourceManagerVersionBuiltOn\": \"2016-01-01T01:00Z\",\n",
    "    \"hadoopVersion\": \"3.0.0-SNAPSHOT\",\n",
    "    \"hadoopBuildVersion\": \"3.0.0-SNAPSHOT from unknown by user1 source checksum 11111111111111111111111111111111\",\n",
    "    \"hadoopVersionBuiltOn\": \"2016-01-01T01:00Z\",\n",
    "    \"haZooKeeperConnectionState\": \"ResourceManager HA is not enabled.\"\n",
    "  }\n",
    "}\n",
    "````\n",
    "\n",
    "#### Waar informatie te vinden over de APIs\n",
    "\n",
    "Gedetailleerde documentatie over de YARN REST API’s kan worden gevonden op de officiële Apache Hadoop-website. Hier zijn enkele nuttige links:\n",
    "\n",
    "[Hadoop YARN](https://hadoop.apache.org/docs/current/hadoop-yarn/hadoop-yarn-site/WebServicesIntro.html) - Introduction to the web services REST APIs1\n",
    "\n",
    "[Apache Hadoop ResourceManager REST APIs](https://hadoop.apache.org/docs/current/hadoop-yarn/hadoop-yarn-site/ResourceManagerRest.html)\n",
    "\n",
    "## Oefeningen\n",
    "\n",
    "Hieronder staan een aantal oefeningen om met de requests package informatie op te vragen via de spark rest api. Let op dat er nog geen applicaties uitgevoerd zijn op de cluster dus niet alle oefeningen zullen informatie  In het volgende deel van deze leermodule gaan we applicaties uitvoeren op de cluster dus kan het handig zijn sommige oefeningen te herhalen op een later moment.\n",
    "\n",
    "### Clusterinformatie ophalen\n",
    "\n",
    "Schrijf een Python-script dat de algemene informatie van het YARN-cluster ophaalt en weergeeft. Dit moet onder andere de totale en beschikbare geheugen- en CPU-resources bevatten."
   ]
  },
  {
   "cell_type": "code",
   "execution_count": null,
   "metadata": {},
   "outputs": [],
   "source": [
    "\n"
   ]
  },
  {
   "cell_type": "markdown",
   "metadata": {},
   "source": [
    "### Lijst van actieve applicaties\n",
    "Schrijf een Python-script dat een lijst van alle actieve applicaties in het YARN-cluster ophaalt en weergeeft. Voor elke applicatie moet de naam, de gebruiker en de status worden weergegeven."
   ]
  },
  {
   "cell_type": "code",
   "execution_count": null,
   "metadata": {},
   "outputs": [],
   "source": []
  },
  {
   "cell_type": "markdown",
   "metadata": {},
   "source": [
    "### Specifieke applicatie-informatie\n",
    "Schrijf een Python-script dat de details van een specifieke applicatie in het YARN-cluster ophaalt en weergeeft. Het script moet de applicatie-ID als invoer nemen en details zoals de naam, gebruiker, queue, en starttijd weergeven."
   ]
  },
  {
   "cell_type": "code",
   "execution_count": null,
   "metadata": {},
   "outputs": [],
   "source": []
  },
  {
   "cell_type": "markdown",
   "metadata": {},
   "source": [
    "### Lijst van nodes\n",
    "Schrijf een Python-script dat een lijst van alle nodes in het YARN-cluster ophaalt en weergeeft. Voor elke node moet de status, het totale en beschikbare geheugen, en de CPU-resources worden weergegeven."
   ]
  },
  {
   "cell_type": "code",
   "execution_count": null,
   "metadata": {},
   "outputs": [],
   "source": []
  },
  {
   "cell_type": "markdown",
   "metadata": {},
   "source": [
    "### Node details\n",
    "Schrijf een Python-script dat de details van een specifieke node in het YARN-cluster ophaalt en weergeeft. Het script moet de node-ID als invoer nemen en details zoals de status, het totale en beschikbare geheugen, en de CPU-resources weergeven."
   ]
  },
  {
   "cell_type": "code",
   "execution_count": null,
   "metadata": {},
   "outputs": [],
   "source": []
  },
  {
   "cell_type": "markdown",
   "metadata": {},
   "source": [
    "### Queue-informatie\n",
    "Schrijf een Python-script dat de informatie van alle queues in het YARN-cluster ophaalt en weergeeft. Voor elke queue moet de naam, de capaciteit, de gebruikte capaciteit en de status worden weergegeven."
   ]
  },
  {
   "cell_type": "code",
   "execution_count": null,
   "metadata": {},
   "outputs": [],
   "source": []
  },
  {
   "cell_type": "markdown",
   "metadata": {},
   "source": [
    "### Applicatiepogingen\n",
    "\n",
    "Schrijf een Python-script dat de pogingen van een specifieke applicatie in het YARN-cluster ophaalt en weergeeft. Het script moet de applicatie-ID als invoer nemen en details zoals de poging-ID, starttijd en eindtijd weergeven."
   ]
  },
  {
   "cell_type": "code",
   "execution_count": null,
   "metadata": {},
   "outputs": [],
   "source": []
  },
  {
   "cell_type": "markdown",
   "metadata": {},
   "source": [
    "### Containerinformatie\n",
    "Schrijf een Python-script dat de informatie van alle containers van een specifieke applicatiepoging in het YARN-cluster ophaalt en weergeeft. Het script moet de applicatie-ID en poging-ID als invoer nemen en details zoals de container-ID, host en status weergeven."
   ]
  },
  {
   "cell_type": "code",
   "execution_count": null,
   "metadata": {},
   "outputs": [],
   "source": []
  },
  {
   "cell_type": "markdown",
   "metadata": {},
   "source": [
    "### Logs van de laatste MapReduce-applicatie opvragen\n",
    "Schrijf een Python-script dat de logs van de laatste uitgevoerde MapReduce-applicatie (via mrjob) in het YARN-cluster ophaalt en weergeeft. Beperk de log tot de laatste 100 regels om fouten op te sporen. Het script moet de applicatie-ID van de laatste MapReduce-applicatie automatisch detecteren."
   ]
  },
  {
   "cell_type": "code",
   "execution_count": null,
   "metadata": {},
   "outputs": [],
   "source": []
  },
  {
   "cell_type": "code",
   "execution_count": null,
   "metadata": {},
   "outputs": [],
   "source": []
  }
 ],
 "metadata": {
  "kernelspec": {
   "display_name": "Python 3",
   "language": "python",
   "name": "python3"
  },
  "language_info": {
   "codemirror_mode": {
    "name": "ipython",
    "version": 3
   },
   "file_extension": ".py",
   "mimetype": "text/x-python",
   "name": "python",
   "nbconvert_exporter": "python",
   "pygments_lexer": "ipython3",
   "version": "3.12.5"
  }
 },
 "nbformat": 4,
 "nbformat_minor": 4
}
