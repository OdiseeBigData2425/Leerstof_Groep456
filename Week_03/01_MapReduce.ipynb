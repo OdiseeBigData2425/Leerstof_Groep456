{
 "cells": [
  {
   "cell_type": "markdown",
   "metadata": {},
   "source": [
    "# Map Reduce\n",
    "\n",
    "Eerst maken we een aparte directory aan voor alles wat we voor deze notebook gaan gebruiken in hdfs. Dit om conflicten of het overschrijven van gegevens te vermijden.\n"
   ]
  },
  {
   "cell_type": "code",
   "execution_count": 1,
   "metadata": {
    "pycharm": {
     "name": "#%%\n"
    }
   },
   "outputs": [
    {
     "name": "stdout",
     "output_type": "stream",
     "text": [
      "Hello World,\n",
      "hello world,\n",
      "hello world,\n",
      "\n",
      "Dit is een voorbeeld file om het Wordcount voorbeeld te testen !\n"
     ]
    }
   ],
   "source": [
    "from hdfs import InsecureClient\n",
    "\n",
    "map = 'MapReduce'\n",
    "\n",
    "client = InsecureClient('http://localhost:9870', user='bigdata')\n",
    "\n",
    "if client.status(map, strict=False) is None:\n",
    "    client.makedirs(map)\n",
    "else:\n",
    "    # do some cleaning in case anything else than *.txt is present\n",
    "    for f in client.list(map):\n",
    "        client.delete(map + '/' + f, recursive=True)\n",
    "\n",
    "client.upload(map, 'input.txt')\n",
    "client.upload(map, 'titanic.csv')\n",
    "\n",
    "with client.read(map + '/input.txt') as reader:\n",
    "    content = reader.read()\n",
    "    print(content.decode('utf-8'))"
   ]
  },
  {
   "cell_type": "markdown",
   "metadata": {
    "pycharm": {
     "name": "#%% md\n"
    }
   },
   "source": [
    "## Wat is MapReduce\n",
    "\n",
    "MapReduce is een programmeermodel om eenvoudig distributed data te verwerken.\n",
    "Het is belangrijk om te realiseren dat de programma's die je hier schrijft een parallel uitgevoerd worden op verschillende stukjes data (De map-fase) om daarna in de reduce-fase tot een finale output teruggebracht te worden.\n",
    "Er gebeuren 5 stappen bij het uitvoeren van een MapReduce programma\n",
    "* Bepalen op welke nodes de code uitgevoerd wordt (wordt door YARN gedaan afhankelijk van de locatie van de blocks)\n",
    "* Uitvoeren van de Map-code (Geschreven door de developer naar eigen wens)\n",
    "* Shuffle, ouput van de map-fase doorsturen naar andere nodes die de resultaten gaan reduceren (Automatisch)\n",
    "* uitvoeren van de Reduce-code (Geschreven door de developer naar eigen wens)\n",
    "* Combineren van de reduce output tot 1 gehele/finale output (Automatisch)\n",
    "\n",
    "Uit bovenstaand stappenplan is het duidelijk dat er twee zaken moeten geimplementeerd worden bij het schrijven van een MapReduce toepassing.\n",
    "Echter zullen we eerst een aantal voorbeelden bestuderen met reeds bestaande implementaties om zo meer vertrouwd te geraken met de flow van MapReduce."
   ]
  },
  {
   "cell_type": "markdown",
   "metadata": {
    "pycharm": {
     "name": "#%% md\n"
    }
   },
   "source": [
    "## Voorbeelden van bestaande applicaties\n",
    "\n",
    "Reeds een aantal default MapReduce applications zijn mee geinstalleerd met Hadoop.\n",
    "De jar die deze toepassingen bevat kan gevonden worden in hadoop/share/hadoop/mapreduce/hadoop-mapreduce-examples-3.3.0.jar.\n",
    "Wanneer je deze jar uitvoert met onderstaande commando krijg je een lijst met de beschikbare applicaties"
   ]
  },
  {
   "cell_type": "code",
   "execution_count": 2,
   "metadata": {
    "pycharm": {
     "name": "#%%\n"
    }
   },
   "outputs": [
    {
     "name": "stdout",
     "output_type": "stream",
     "text": [
      "An example program must be given as the first argument.\n",
      "Valid program names are:\n",
      "  aggregatewordcount: An Aggregate based map/reduce program that counts the words in the input files.\n",
      "  aggregatewordhist: An Aggregate based map/reduce program that computes the histogram of the words in the input files.\n",
      "  bbp: A map/reduce program that uses Bailey-Borwein-Plouffe to compute exact digits of Pi.\n",
      "  dbcount: An example job that count the pageview counts from a database.\n",
      "  distbbp: A map/reduce program that uses a BBP-type formula to compute exact bits of Pi.\n",
      "  grep: A map/reduce program that counts the matches of a regex in the input.\n",
      "  join: A job that effects a join over sorted, equally partitioned datasets\n",
      "  multifilewc: A job that counts words from several files.\n",
      "  pentomino: A map/reduce tile laying program to find solutions to pentomino problems.\n",
      "  pi: A map/reduce program that estimates Pi using a quasi-Monte Carlo method.\n",
      "  randomtextwriter: A map/reduce program that writes 10GB of random textual data per node.\n",
      "  randomwriter: A map/reduce program that writes 10GB of random data per node.\n",
      "  secondarysort: An example defining a secondary sort to the reduce.\n",
      "  sort: A map/reduce program that sorts the data written by the random writer.\n",
      "  sudoku: A sudoku solver.\n",
      "  teragen: Generate data for the terasort\n",
      "  terasort: Run the terasort\n",
      "  teravalidate: Checking results of terasort\n",
      "  wordcount: A map/reduce program that counts the words in the input files.\n",
      "  wordmean: A map/reduce program that counts the average length of the words in the input files.\n",
      "  wordmedian: A map/reduce program that counts the median length of the words in the input files.\n",
      "  wordstandarddeviation: A map/reduce program that counts the standard deviation of the length of the words in the input files.\n"
     ]
    }
   ],
   "source": [
    "!hadoop jar hadoop-mapreduce-examples-3.3.6.jar"
   ]
  },
  {
   "cell_type": "markdown",
   "metadata": {
    "pycharm": {
     "name": "#%% md\n"
    }
   },
   "source": [
    "In deze notebook gaan we vooral focussen op het typische probleem van wordcount.\n",
    "Dit is een toepassing dat gaat tellen hoe vaak elk woord voorkomt in een bepaalde tekst.\n",
    "Om meer informatie over deze toepassing te krijgen kan je gebruik maken van het volgende commando:"
   ]
  },
  {
   "cell_type": "code",
   "execution_count": 3,
   "metadata": {
    "pycharm": {
     "name": "#%%\n"
    }
   },
   "outputs": [
    {
     "name": "stdout",
     "output_type": "stream",
     "text": [
      "Usage: wordcount <in> [<in>...] <out>\n"
     ]
    }
   ],
   "source": [
    "!hadoop jar hadoop-mapreduce-examples-3.3.6.jar wordcount"
   ]
  },
  {
   "cell_type": "markdown",
   "metadata": {
    "pycharm": {
     "name": "#%% md\n"
    }
   },
   "source": [
    "In de eerste cell hebben we het input.txt bestand geupload. Of dit correct gebeurd is kan je controleren op de [file explorer van het hdfs](http://localhost:9870/explorer.html#/user/bigdata)\n",
    "\n",
    "Met onderstaande commando kan nu het precompiled word count example uitgevoerd worden"
   ]
  },
  {
   "cell_type": "code",
   "execution_count": 4,
   "metadata": {
    "pycharm": {
     "name": "#%%\n"
    }
   },
   "outputs": [
    {
     "name": "stdout",
     "output_type": "stream",
     "text": [
      "2025-02-27 13:53:53,803 INFO client.DefaultNoHARMFailoverProxyProvider: Connecting to ResourceManager at resourcemanager/172.18.0.5:8032\n",
      "2025-02-27 13:53:53,948 INFO client.AHSProxy: Connecting to Application History server at historyserver/172.18.0.6:10200\n",
      "2025-02-27 13:53:54,179 INFO mapreduce.JobResourceUploader: Disabling Erasure Coding for path: /tmp/hadoop-yarn/staging/root/.staging/job_1740649645876_0009\n",
      "2025-02-27 13:53:54,442 INFO input.FileInputFormat: Total input files to process : 1\n",
      "2025-02-27 13:53:54,544 INFO mapreduce.JobSubmitter: number of splits:1\n",
      "2025-02-27 13:53:54,699 INFO mapreduce.JobSubmitter: Submitting tokens for job: job_1740649645876_0009\n",
      "2025-02-27 13:53:54,700 INFO mapreduce.JobSubmitter: Executing with tokens: []\n",
      "2025-02-27 13:53:54,837 INFO conf.Configuration: resource-types.xml not found\n",
      "2025-02-27 13:53:54,837 INFO resource.ResourceUtils: Unable to find 'resource-types.xml'.\n",
      "2025-02-27 13:53:55,175 INFO impl.YarnClientImpl: Submitted application application_1740649645876_0009\n",
      "2025-02-27 13:53:55,210 INFO mapreduce.Job: The url to track the job: http://resourcemanager:8088/proxy/application_1740649645876_0009/\n",
      "2025-02-27 13:53:55,211 INFO mapreduce.Job: Running job: job_1740649645876_0009\n",
      "2025-02-27 13:54:01,382 INFO mapreduce.Job: Job job_1740649645876_0009 running in uber mode : false\n",
      "2025-02-27 13:54:01,383 INFO mapreduce.Job:  map 0% reduce 0%\n",
      "2025-02-27 13:54:09,708 INFO mapreduce.Job:  map 100% reduce 0%\n",
      "2025-02-27 13:54:14,742 INFO mapreduce.Job:  map 100% reduce 100%\n",
      "2025-02-27 13:54:14,748 INFO mapreduce.Job: Job job_1740649645876_0009 completed successfully\n",
      "2025-02-27 13:54:14,809 INFO mapreduce.Job: Counters: 54\n",
      "\tFile System Counters\n",
      "\t\tFILE: Number of bytes read=129\n",
      "\t\tFILE: Number of bytes written=559405\n",
      "\t\tFILE: Number of read operations=0\n",
      "\t\tFILE: Number of large read operations=0\n",
      "\t\tFILE: Number of write operations=0\n",
      "\t\tHDFS: Number of bytes read=226\n",
      "\t\tHDFS: Number of bytes written=111\n",
      "\t\tHDFS: Number of read operations=8\n",
      "\t\tHDFS: Number of large read operations=0\n",
      "\t\tHDFS: Number of write operations=2\n",
      "\t\tHDFS: Number of bytes read erasure-coded=0\n",
      "\tJob Counters \n",
      "\t\tLaunched map tasks=1\n",
      "\t\tLaunched reduce tasks=1\n",
      "\t\tRack-local map tasks=1\n",
      "\t\tTotal time spent by all maps in occupied slots (ms)=13356\n",
      "\t\tTotal time spent by all reduces in occupied slots (ms)=18280\n",
      "\t\tTotal time spent by all map tasks (ms)=3339\n",
      "\t\tTotal time spent by all reduce tasks (ms)=2285\n",
      "\t\tTotal vcore-milliseconds taken by all map tasks=3339\n",
      "\t\tTotal vcore-milliseconds taken by all reduce tasks=2285\n",
      "\t\tTotal megabyte-milliseconds taken by all map tasks=13676544\n",
      "\t\tTotal megabyte-milliseconds taken by all reduce tasks=18718720\n",
      "\tMap-Reduce Framework\n",
      "\t\tMap input records=5\n",
      "\t\tMap output records=18\n",
      "\t\tMap output bytes=176\n",
      "\t\tMap output materialized bytes=121\n",
      "\t\tInput split bytes=118\n",
      "\t\tCombine input records=18\n",
      "\t\tCombine output records=15\n",
      "\t\tReduce input groups=15\n",
      "\t\tReduce shuffle bytes=121\n",
      "\t\tReduce input records=15\n",
      "\t\tReduce output records=15\n",
      "\t\tSpilled Records=30\n",
      "\t\tShuffled Maps =1\n",
      "\t\tFailed Shuffles=0\n",
      "\t\tMerged Map outputs=1\n",
      "\t\tGC time elapsed (ms)=178\n",
      "\t\tCPU time spent (ms)=1460\n",
      "\t\tPhysical memory (bytes) snapshot=511721472\n",
      "\t\tVirtual memory (bytes) snapshot=13422067712\n",
      "\t\tTotal committed heap usage (bytes)=368574464\n",
      "\t\tPeak Map Physical memory (bytes)=257470464\n",
      "\t\tPeak Map Virtual memory (bytes)=5037142016\n",
      "\t\tPeak Reduce Physical memory (bytes)=254251008\n",
      "\t\tPeak Reduce Virtual memory (bytes)=8384925696\n",
      "\tShuffle Errors\n",
      "\t\tBAD_ID=0\n",
      "\t\tCONNECTION=0\n",
      "\t\tIO_ERROR=0\n",
      "\t\tWRONG_LENGTH=0\n",
      "\t\tWRONG_MAP=0\n",
      "\t\tWRONG_REDUCE=0\n",
      "\tFile Input Format Counters \n",
      "\t\tBytes Read=108\n",
      "\tFile Output Format Counters \n",
      "\t\tBytes Written=111\n"
     ]
    }
   ],
   "source": [
    "!hadoop jar hadoop-mapreduce-examples-3.3.6.jar wordcount /user/bigdata/MapReduce/input.txt /user/bigdata/MapReduce/output"
   ]
  },
  {
   "cell_type": "markdown",
   "metadata": {
    "pycharm": {
     "name": "#%% md\n"
    }
   },
   "source": [
    "Na het uitvoeren van het wordcount applicatie is er op het HDFS een extra folder toegevoegd met als naam **output**.\n",
    "De plaats waar de output bewaard wordt is opgegeven in het bovenstaande commando en kan bekeken worden via de file-explorer van het hdfs.\n",
    "Deze folder bevat de volgende files:\n",
    "* Een _SUCCESS file dat leeg is. Deze file wordt gebruikt om aan te geven dat de MapReduce applicatie die resulteerde in de output goed afgerond was.\n",
    "* Een part-r-00000 file dat de output bevat. Indien de output te groot is kan het zijn dat deze file in meerdere files gesplitst wordt. Hier is dit niet het geval en bevat deze file alle ouput. De output van het bovenstaande commando zijn key-value paren waar de keys de verschillende woorden zijn en de values hoeveel keer elk woord voorkomt.\n",
    "\n",
    "De output van het commando kan dan met onderstaande code uitgelezen worden:"
   ]
  },
  {
   "cell_type": "code",
   "execution_count": 5,
   "metadata": {},
   "outputs": [
    {
     "name": "stdout",
     "output_type": "stream",
     "text": [
      "!\t1\n",
      "Dit\t1\n",
      "Hello\t1\n",
      "Wordcount\t1\n",
      "World,\t1\n",
      "een\t1\n",
      "file\t1\n",
      "hello\t2\n",
      "het\t1\n",
      "is\t1\n",
      "om\t1\n",
      "te\t1\n",
      "testen\t1\n",
      "voorbeeld\t2\n",
      "world,\t2\n",
      "\n"
     ]
    }
   ],
   "source": [
    "with client.read(map + '/output/part-r-00000') as reader:\n",
    "    content = reader.read()\n",
    "    print(content.decode('utf-8'))"
   ]
  },
  {
   "cell_type": "markdown",
   "metadata": {},
   "source": [
    "## Logs/process monitoring\n",
    "\n",
    "Bovestaande wordcount applicatie wordt uitgevoerd op YARN op de verschillende nodes van de cluster. Dit houdt in dat YARN gebruikt kan worden om de status van de applicatie op te volgen. Hiervoork kan je server naar [de webpagina van Yarn](http://localhost:8088). Na het klikken op de juiste status krijg je de correcte applicatie te zien. Hier kan je ook de logs bekijken door op logs te klikken.\n",
    "\n",
    "**LET OP: Doordat we in de webbrowser buiten de docker-containers zitten, kunnen we niet de historyserver hostname gebruiken. Als je een DNS-lookup error krijgt, vervang dan de domeinnaam/hostname door localhost.**"
   ]
  },
  {
   "cell_type": "markdown",
   "metadata": {
    "pycharm": {
     "name": "#%% md\n"
    }
   },
   "source": [
    "## OEFENING: MAPREDUCE \n",
    "\n",
    "Probeer nu op basis van bovenstaande reeds bestaande applicaties de gemiddelde lengte van de woorden in de text te bepalen."
   ]
  },
  {
   "cell_type": "code",
   "execution_count": 7,
   "metadata": {
    "pycharm": {
     "name": "#%%\n"
    }
   },
   "outputs": [
    {
     "name": "stdout",
     "output_type": "stream",
     "text": [
      "2025-02-27 14:14:23,281 INFO client.DefaultNoHARMFailoverProxyProvider: Connecting to ResourceManager at resourcemanager/172.18.0.5:8032\n",
      "2025-02-27 14:14:23,374 INFO client.AHSProxy: Connecting to Application History server at historyserver/172.18.0.6:10200\n",
      "2025-02-27 14:14:23,558 INFO mapreduce.JobResourceUploader: Disabling Erasure Coding for path: /tmp/hadoop-yarn/staging/root/.staging/job_1740649645876_0010\n",
      "2025-02-27 14:14:23,811 INFO input.FileInputFormat: Total input files to process : 1\n",
      "2025-02-27 14:14:23,897 INFO mapreduce.JobSubmitter: number of splits:1\n",
      "2025-02-27 14:14:24,040 INFO mapreduce.JobSubmitter: Submitting tokens for job: job_1740649645876_0010\n",
      "2025-02-27 14:14:24,040 INFO mapreduce.JobSubmitter: Executing with tokens: []\n",
      "2025-02-27 14:14:24,195 INFO conf.Configuration: resource-types.xml not found\n",
      "2025-02-27 14:14:24,196 INFO resource.ResourceUtils: Unable to find 'resource-types.xml'.\n",
      "2025-02-27 14:14:24,468 INFO impl.YarnClientImpl: Submitted application application_1740649645876_0010\n",
      "2025-02-27 14:14:24,548 INFO mapreduce.Job: The url to track the job: http://resourcemanager:8088/proxy/application_1740649645876_0010/\n",
      "2025-02-27 14:14:24,549 INFO mapreduce.Job: Running job: job_1740649645876_0010\n",
      "2025-02-27 14:14:30,656 INFO mapreduce.Job: Job job_1740649645876_0010 running in uber mode : false\n",
      "2025-02-27 14:14:30,658 INFO mapreduce.Job:  map 0% reduce 0%\n",
      "2025-02-27 14:14:36,734 INFO mapreduce.Job:  map 100% reduce 0%\n",
      "2025-02-27 14:14:40,757 INFO mapreduce.Job:  map 100% reduce 100%\n",
      "2025-02-27 14:14:40,762 INFO mapreduce.Job: Job job_1740649645876_0010 completed successfully\n",
      "2025-02-27 14:14:40,829 INFO mapreduce.Job: Counters: 54\n",
      "\tFile System Counters\n",
      "\t\tFILE: Number of bytes read=45\n",
      "\t\tFILE: Number of bytes written=559247\n",
      "\t\tFILE: Number of read operations=0\n",
      "\t\tFILE: Number of large read operations=0\n",
      "\t\tFILE: Number of write operations=0\n",
      "\t\tHDFS: Number of bytes read=226\n",
      "\t\tHDFS: Number of bytes written=19\n",
      "\t\tHDFS: Number of read operations=8\n",
      "\t\tHDFS: Number of large read operations=0\n",
      "\t\tHDFS: Number of write operations=2\n",
      "\t\tHDFS: Number of bytes read erasure-coded=0\n",
      "\tJob Counters \n",
      "\t\tLaunched map tasks=1\n",
      "\t\tLaunched reduce tasks=1\n",
      "\t\tRack-local map tasks=1\n",
      "\t\tTotal time spent by all maps in occupied slots (ms)=11728\n",
      "\t\tTotal time spent by all reduces in occupied slots (ms)=14896\n",
      "\t\tTotal time spent by all map tasks (ms)=2932\n",
      "\t\tTotal time spent by all reduce tasks (ms)=1862\n",
      "\t\tTotal vcore-milliseconds taken by all map tasks=2932\n",
      "\t\tTotal vcore-milliseconds taken by all reduce tasks=1862\n",
      "\t\tTotal megabyte-milliseconds taken by all map tasks=12009472\n",
      "\t\tTotal megabyte-milliseconds taken by all reduce tasks=15253504\n",
      "\tMap-Reduce Framework\n",
      "\t\tMap input records=5\n",
      "\t\tMap output records=36\n",
      "\t\tMap output bytes=522\n",
      "\t\tMap output materialized bytes=37\n",
      "\t\tInput split bytes=118\n",
      "\t\tCombine input records=36\n",
      "\t\tCombine output records=2\n",
      "\t\tReduce input groups=2\n",
      "\t\tReduce shuffle bytes=37\n",
      "\t\tReduce input records=2\n",
      "\t\tReduce output records=2\n",
      "\t\tSpilled Records=4\n",
      "\t\tShuffled Maps =1\n",
      "\t\tFailed Shuffles=0\n",
      "\t\tMerged Map outputs=1\n",
      "\t\tGC time elapsed (ms)=152\n",
      "\t\tCPU time spent (ms)=1070\n",
      "\t\tPhysical memory (bytes) snapshot=519782400\n",
      "\t\tVirtual memory (bytes) snapshot=13423984640\n",
      "\t\tTotal committed heap usage (bytes)=365428736\n",
      "\t\tPeak Map Physical memory (bytes)=257597440\n",
      "\t\tPeak Map Virtual memory (bytes)=5037686784\n",
      "\t\tPeak Reduce Physical memory (bytes)=262258688\n",
      "\t\tPeak Reduce Virtual memory (bytes)=8386297856\n",
      "\tShuffle Errors\n",
      "\t\tBAD_ID=0\n",
      "\t\tCONNECTION=0\n",
      "\t\tIO_ERROR=0\n",
      "\t\tWRONG_LENGTH=0\n",
      "\t\tWRONG_MAP=0\n",
      "\t\tWRONG_REDUCE=0\n",
      "\tFile Input Format Counters \n",
      "\t\tBytes Read=108\n",
      "\tFile Output Format Counters \n",
      "\t\tBytes Written=19\n",
      "The mean is: 4.777777777777778\n"
     ]
    }
   ],
   "source": [
    "# uit te voeren op commando voor de gemiddelde lengte van de woorden te bekomen\n",
    "!hadoop jar hadoop-mapreduce-examples-3.3.6.jar wordmean /user/bigdata/MapReduce/input.txt /user/bigdata/MapReduce/output_mean"
   ]
  },
  {
   "cell_type": "markdown",
   "metadata": {
    "pycharm": {
     "name": "#%% md\n"
    }
   },
   "source": [
    "De resource manager houdt ook een overzicht bij van de uitgevoerde applicaties, hun status, runtime en eventuele loggings. Na bovenstaande commando's uit te voeren moet je iets gelijkaardigs zien als in de onderstaande screenshot.\n",
    "\n",
    "![yarn of mapreduce](images/yarn_001.png)\n",
    "\n",
    "## Zelf implementeren van MapReduce applicaties\n",
    "\n",
    "Natuurlijk zijn er veel meer zaken mogelijk om te berekenen met map-reduce toepassingen dan de reeds gecompileerde in hadoop.\n",
    "Zoals eerder aangehaald valt vooral het coderen van de Map- en Reducestap hierbij op de schouders van de developer.\n",
    "De standaard programmeertaal van MapReduce is Java en dus ook het grootste deel van de documentatie over MapReduce is geschreven met behulp van Java.\n",
    "Deze programmas moeten dan gecompileerd worden tot een jar dat geupload kan worden naar de overeenkomstige nodes en daar uitgevoerd.\n",
    "De api overview van hadoop kan je [hier](https://hadoop.apache.org/docs/stable/api/org/apache/hadoop/mapred/package-summary.html) vinden.\n",
    "\n",
    "De code voor het wordcount example ziet er als volgt uit:"
   ]
  },
  {
   "cell_type": "code",
   "execution_count": 12,
   "metadata": {
    "pycharm": {
     "name": "#%%\n"
    }
   },
   "outputs": [
    {
     "name": "stdout",
     "output_type": "stream",
     "text": [
      "Overwriting WordCount.java\n"
     ]
    }
   ],
   "source": [
    "%%file WordCount.java\n",
    "\n",
    "// DIT MOET JE ZELF NIET KUNNEN!!!!!!!!\n",
    "\n",
    "\n",
    "// dit schrijft onderstaande cell naar een file in de huidige directory\n",
    "import java.io.IOException;\n",
    "import java.util.StringTokenizer;\n",
    "\n",
    "import org.apache.hadoop.conf.Configuration;\n",
    "import org.apache.hadoop.fs.Path;\n",
    "import org.apache.hadoop.io.IntWritable;\n",
    "import org.apache.hadoop.io.Text;\n",
    "import org.apache.hadoop.mapreduce.Job;\n",
    "import org.apache.hadoop.mapreduce.Mapper;\n",
    "import org.apache.hadoop.mapreduce.Reducer;\n",
    "import org.apache.hadoop.mapreduce.lib.input.FileInputFormat;\n",
    "import org.apache.hadoop.mapreduce.lib.output.FileOutputFormat;\n",
    "\n",
    "public class WordCount {\n",
    "\n",
    "    // De mapper klasse -> Mapper extends \n",
    "    // -> de vier klassen tussen <> staan voor (input_key_type, input_value_type, output_key_type, output_value_type)\n",
    "    // input_value = 1 lijn -> wordt lijn per lijn uitgevoerd\n",
    "    // output_key -> text namelijk 1 woord\n",
    "    // output_value -> 1 (maar een speciaal type namelijk IntWritable)\n",
    "    public static class TokenizerMapper extends Mapper<Object, Text, Text, IntWritable>{\n",
    "        private final static IntWritable one = new IntWritable(1);\n",
    "        private Text word = new Text();\n",
    "\n",
    "        public void map(Object key, Text value, Context context) throws IOException, InterruptedException{\n",
    "            // deze functie wordt lijn per lijn opgeroepen\n",
    "            // Splits op spaties om woord per woord te overlopen\n",
    "            StringTokenizer itr = new StringTokenizer(value.toString());\n",
    "            while(itr.hasMoreTokens()){\n",
    "                // itereer over alle woorden in de lijn\n",
    "                // stel de waarde van de key in\n",
    "                word.set(itr.nextToken());\n",
    "                // emit de key-value paar (word, 1)\n",
    "                context.write(word, one);\n",
    "            }\n",
    "\n",
    "        }\n",
    "    }\n",
    "\n",
    "    // Dit is de klasse voor de reducer functionality, opnieuw de types van input en output key-value tussen de <>\n",
    "    public static class IntSumReducer extends Reducer<Text, IntWritable, Text, IntWritable>{\n",
    "        private IntWritable result = new IntWritable();\n",
    "\n",
    "        public void reduce(Text key, Iterable<IntWritable> values, Context context) throws IOException, InterruptedException{\n",
    "            // Tel alle waarden op in de values array\n",
    "            int som = 0;\n",
    "            for(IntWritable val: values){\n",
    "                som += val.get();\n",
    "            }\n",
    "            // zet het resultaat\n",
    "            result.set(som);\n",
    "            // emit het key-value paar als resultaat\n",
    "            context.write(key, result);\n",
    "        }\n",
    "    }\n",
    "\n",
    "    // configure the MapReduce program\n",
    "    public static void main(String[] args) throws Exception {\n",
    "        Configuration conf = new Configuration();\n",
    "        Job job = Job.getInstance(conf, \"word count java\");\n",
    "        job.setJarByClass(WordCount.class);\n",
    "        // configure mapper\n",
    "        job.setMapperClass(TokenizerMapper.class);\n",
    "        // configure combiner (soort van reducer die draait op mapping node voor performantie)\n",
    "        job.setCombinerClass(IntSumReducer.class);\n",
    "        // configure reducer\n",
    "        job.setReducerClass(IntSumReducer.class);\n",
    "        // set output key-value classes\n",
    "        job.setOutputKeyClass(Text.class);\n",
    "        job.setOutputValueClass(IntWritable.class);\n",
    "        // set input file (first argument passed to the program)\n",
    "        FileInputFormat.addInputPath(job, new Path(args[0]));\n",
    "        // set output file  (second argument passed to the program)\n",
    "        FileOutputFormat.setOutputPath(job, new Path(args[1]));\n",
    "        // In this case, we wait for completion to get the output/logs and not stop the program to early.\n",
    "        System.exit(job.waitForCompletion(true) ? 0 : 1);\n",
    "    }\n",
    "}"
   ]
  },
  {
   "cell_type": "markdown",
   "metadata": {
    "pycharm": {
     "name": "#%% md\n"
    }
   },
   "source": [
    "Deze code bevat drie delen:\n",
    "* De main() functie: verzorgt de configuratie van de uit te voeren taak. Geeft aan wat de Map en Reduce klassen zijn, wat de input is, hoe de output bewaard wordt ,...\n",
    "* De Map-klasse met de map() functie bevat de code voor de mapping-fase\n",
    "* De Reduce-klasse met de reduce() functie bevat de code voor de reduce-fase\n",
    "\n",
    "De laatste twee klassen zijn hier gecodeerd als geneste klassen. Deze hadden ook in aparte files geplaatst kunnen worden.\n",
    "Nu moet deze code eerst omgezet/gecompileerd worden tot een .jar file. Deze kan dan analoog uitgevoerd worden als hierboven met het voorbeeldcode.\n",
    "Deze twee stappen kunnen uitgevoerd worden door onderstaande commando's."
   ]
  },
  {
   "cell_type": "code",
   "execution_count": 13,
   "metadata": {
    "pycharm": {
     "name": "#%%\n"
    }
   },
   "outputs": [
    {
     "name": "stdout",
     "output_type": "stream",
     "text": [
      "added manifest\n",
      "adding: WordCount$IntSumReducer.class(in = 1739) (out= 740)(deflated 57%)\n",
      "adding: WordCount$TokenizerMapper.class(in = 1736) (out= 754)(deflated 56%)\n",
      "adding: WordCount.class(in = 1496) (out= 819)(deflated 45%)\n"
     ]
    }
   ],
   "source": [
    "# compileren tot .jar\n",
    "!javac -cp \"hadoop-common-3.3.6.jar:hadoop-mapreduce-client-core-3.3.6.jar\" -d . WordCount.java\n",
    "!jar cvf wordcounter.jar *.class"
   ]
  },
  {
   "cell_type": "code",
   "execution_count": 14,
   "metadata": {
    "pycharm": {
     "name": "#%%\n"
    }
   },
   "outputs": [
    {
     "name": "stdout",
     "output_type": "stream",
     "text": [
      "2025-02-27 14:31:03,977 INFO client.DefaultNoHARMFailoverProxyProvider: Connecting to ResourceManager at resourcemanager/172.18.0.5:8032\n",
      "2025-02-27 14:31:04,130 INFO client.AHSProxy: Connecting to Application History server at historyserver/172.18.0.6:10200\n",
      "2025-02-27 14:31:04,308 WARN mapreduce.JobResourceUploader: Hadoop command-line option parsing not performed. Implement the Tool interface and execute your application with ToolRunner to remedy this.\n",
      "2025-02-27 14:31:04,322 INFO mapreduce.JobResourceUploader: Disabling Erasure Coding for path: /tmp/hadoop-yarn/staging/root/.staging/job_1740649645876_0011\n",
      "2025-02-27 14:31:04,574 INFO input.FileInputFormat: Total input files to process : 1\n",
      "2025-02-27 14:31:04,651 INFO mapreduce.JobSubmitter: number of splits:1\n",
      "2025-02-27 14:31:04,789 INFO mapreduce.JobSubmitter: Submitting tokens for job: job_1740649645876_0011\n",
      "2025-02-27 14:31:04,789 INFO mapreduce.JobSubmitter: Executing with tokens: []\n",
      "2025-02-27 14:31:04,931 INFO conf.Configuration: resource-types.xml not found\n",
      "2025-02-27 14:31:04,931 INFO resource.ResourceUtils: Unable to find 'resource-types.xml'.\n",
      "2025-02-27 14:31:05,195 INFO impl.YarnClientImpl: Submitted application application_1740649645876_0011\n",
      "2025-02-27 14:31:05,222 INFO mapreduce.Job: The url to track the job: http://resourcemanager:8088/proxy/application_1740649645876_0011/\n",
      "2025-02-27 14:31:05,223 INFO mapreduce.Job: Running job: job_1740649645876_0011\n",
      "2025-02-27 14:31:10,301 INFO mapreduce.Job: Job job_1740649645876_0011 running in uber mode : false\n",
      "2025-02-27 14:31:10,303 INFO mapreduce.Job:  map 0% reduce 0%\n",
      "2025-02-27 14:31:15,429 INFO mapreduce.Job:  map 100% reduce 0%\n",
      "2025-02-27 14:31:20,455 INFO mapreduce.Job:  map 100% reduce 100%\n",
      "2025-02-27 14:31:20,464 INFO mapreduce.Job: Job job_1740649645876_0011 completed successfully\n",
      "2025-02-27 14:31:20,536 INFO mapreduce.Job: Counters: 54\n",
      "\tFile System Counters\n",
      "\t\tFILE: Number of bytes read=129\n",
      "\t\tFILE: Number of bytes written=558917\n",
      "\t\tFILE: Number of read operations=0\n",
      "\t\tFILE: Number of large read operations=0\n",
      "\t\tFILE: Number of write operations=0\n",
      "\t\tHDFS: Number of bytes read=226\n",
      "\t\tHDFS: Number of bytes written=111\n",
      "\t\tHDFS: Number of read operations=8\n",
      "\t\tHDFS: Number of large read operations=0\n",
      "\t\tHDFS: Number of write operations=2\n",
      "\t\tHDFS: Number of bytes read erasure-coded=0\n",
      "\tJob Counters \n",
      "\t\tLaunched map tasks=1\n",
      "\t\tLaunched reduce tasks=1\n",
      "\t\tRack-local map tasks=1\n",
      "\t\tTotal time spent by all maps in occupied slots (ms)=7804\n",
      "\t\tTotal time spent by all reduces in occupied slots (ms)=14648\n",
      "\t\tTotal time spent by all map tasks (ms)=1951\n",
      "\t\tTotal time spent by all reduce tasks (ms)=1831\n",
      "\t\tTotal vcore-milliseconds taken by all map tasks=1951\n",
      "\t\tTotal vcore-milliseconds taken by all reduce tasks=1831\n",
      "\t\tTotal megabyte-milliseconds taken by all map tasks=7991296\n",
      "\t\tTotal megabyte-milliseconds taken by all reduce tasks=14999552\n",
      "\tMap-Reduce Framework\n",
      "\t\tMap input records=5\n",
      "\t\tMap output records=18\n",
      "\t\tMap output bytes=176\n",
      "\t\tMap output materialized bytes=121\n",
      "\t\tInput split bytes=118\n",
      "\t\tCombine input records=18\n",
      "\t\tCombine output records=15\n",
      "\t\tReduce input groups=15\n",
      "\t\tReduce shuffle bytes=121\n",
      "\t\tReduce input records=15\n",
      "\t\tReduce output records=15\n",
      "\t\tSpilled Records=30\n",
      "\t\tShuffled Maps =1\n",
      "\t\tFailed Shuffles=0\n",
      "\t\tMerged Map outputs=1\n",
      "\t\tGC time elapsed (ms)=200\n",
      "\t\tCPU time spent (ms)=940\n",
      "\t\tPhysical memory (bytes) snapshot=490496000\n",
      "\t\tVirtual memory (bytes) snapshot=13426065408\n",
      "\t\tTotal committed heap usage (bytes)=348127232\n",
      "\t\tPeak Map Physical memory (bytes)=260096000\n",
      "\t\tPeak Map Virtual memory (bytes)=5040541696\n",
      "\t\tPeak Reduce Physical memory (bytes)=230486016\n",
      "\t\tPeak Reduce Virtual memory (bytes)=8385523712\n",
      "\tShuffle Errors\n",
      "\t\tBAD_ID=0\n",
      "\t\tCONNECTION=0\n",
      "\t\tIO_ERROR=0\n",
      "\t\tWRONG_LENGTH=0\n",
      "\t\tWRONG_MAP=0\n",
      "\t\tWRONG_REDUCE=0\n",
      "\tFile Input Format Counters \n",
      "\t\tBytes Read=108\n",
      "\tFile Output Format Counters \n",
      "\t\tBytes Written=111\n"
     ]
    }
   ],
   "source": [
    "# execute\n",
    "!hadoop jar wordcounter.jar WordCount /user/bigdata/MapReduce/input.txt /user/bigdata/MapReduce/output_java"
   ]
  },
  {
   "cell_type": "code",
   "execution_count": 15,
   "metadata": {},
   "outputs": [
    {
     "name": "stdout",
     "output_type": "stream",
     "text": [
      "!\t1\n",
      "Dit\t1\n",
      "Hello\t1\n",
      "Wordcount\t1\n",
      "World,\t1\n",
      "een\t1\n",
      "file\t1\n",
      "hello\t2\n",
      "het\t1\n",
      "is\t1\n",
      "om\t1\n",
      "te\t1\n",
      "testen\t1\n",
      "voorbeeld\t2\n",
      "world,\t2\n",
      "\n"
     ]
    }
   ],
   "source": [
    "with client.read(map + '/output_java/part-r-00000') as reader:\n",
    "    content = reader.read()\n",
    "    print(content.decode('utf-8'))"
   ]
  },
  {
   "cell_type": "markdown",
   "metadata": {
    "pycharm": {
     "name": "#%% md\n"
    }
   },
   "source": [
    "## Implementeren via Python\n",
    "\n",
    "Hoewel het Hadoop Ecosysteem geprogrammeerd is in Java en het dus er goed mee samenwerkt, is het niet verplicht om Java te gebruiken om MapReduce applicaties te schrijven.\n",
    "Java krijgt namelijk veel kritiek, vooral doordat er veel code nodig is om eenvoudige zaken te programmeren.\n",
    "Om andere programmeertalen te gebruiken worden er verscheidene API's aangeboden door Hadoop, namelijk\n",
    "* Hadoop Streaming\n",
    "    * Communicatie via stdin/stdout\n",
    "    * Gebruikt door hadoopy, mrjob, ...\n",
    "* Hadoop Pipes\n",
    "    * C++ interface voor Hadoop\n",
    "    * Communicatie via sockets\n",
    "    * Gebruikt door pydoop\n"
   ]
  },
  {
   "cell_type": "markdown",
   "metadata": {
    "pycharm": {
     "name": "#%% md\n"
    }
   },
   "source": [
    "### Mrjob\n",
    "\n",
    "De eerste API die we bekijken is MrJobs.\n",
    "Deze API maakt gebruik van de Hadoop Streaming API.\n",
    "De voordelen van MrJobs zijn:\n",
    "* Uitgebreidde documentatie\n",
    "* Code kan lokaal uitgevoerd worden als test\n",
    "* Data serialisatie gebeurt automatisch (nadeel van Streaming API)\n",
    "* Werkt met Amazon Elastic MapReduce en Google Cloud Dataproc\n",
    "\n",
    "Het grootste nadeel is dat de StreamingAPI niet de volledige kracht heeft van het Hadoop ecosysteem omdat alles omgezet wordt naar strings (jsons)\n",
    "\n",
    "Installatie van deze package gebeurt als volgt:"
   ]
  },
  {
   "cell_type": "code",
   "execution_count": 16,
   "metadata": {
    "pycharm": {
     "name": "#%%\n"
    }
   },
   "outputs": [
    {
     "name": "stdout",
     "output_type": "stream",
     "text": [
      "Writing wordcount_mrjob.py\n"
     ]
    }
   ],
   "source": [
    "%%file wordcount_mrjob.py\n",
    "from mrjob.job import MRJob #importeer mrjob package\n",
    "\n",
    "class MRWordCount(MRJob): # maak een mapreduce applicatie aan\n",
    "    def mapper(self, _, line):\n",
    "        # wordt lijn per lijn uitgevoerd\n",
    "        for word in line.split():\n",
    "            # itereer over de woorden in elke lijn\n",
    "            yield (word, 1) # dit is de emit -> yield is zoals een return maar hij gaat blijven verder doen terwijl een return de functie stopt\n",
    "\n",
    "    # in de achtergrond gebeurt er dan een shuffle stap -> alle values van dezelfde key worden bij elkaar gevoegd.\n",
    "    # elke key met zijn lijstje waarden wordt naar de reducer gestuurd\n",
    "    \n",
    "    def reducer(self, word, counts):\n",
    "        # deze wordt per key opgeroepen\n",
    "        yield (word, sum(counts))\n",
    "\n",
    "if __name__ == '__main__':\n",
    "    MRWordCount.run() # start de applicatie"
   ]
  },
  {
   "cell_type": "markdown",
   "metadata": {},
   "source": [
    "Deze code kan uitgevoerd worden door het commando hieronder.\n",
    "Er zijn twee belangrijke parameters om toe te voegen aan het commando.\n",
    "* -r: Deze parameter geeft aan welke file uitgelezen wordt. Dit kan een lokale file zijn of een file op het hdfs. Om een hdfs-file aan te spreken gebruik je de volgende structuur: hdfs:///{path to file}\n",
    "* -o: Deze parameter geeft aan waar de data moet bewaard worden. Als deze parameter ontbreekt wordt het in de stdout geprint. Met de parameter kan je aangeven in welke file (lokaal of hdfs) de output moet bewaard worden.\n",
    "\n",
    "Meer informatie over hoe mrjob applicaties gestart kunnen worden vind je in [de documentatie](https://mrjob.readthedocs.io/en/latest/guides/quickstart.html#running-your-job-different-ways)"
   ]
  },
  {
   "cell_type": "code",
   "execution_count": 17,
   "metadata": {
    "pycharm": {
     "name": "#%%\n"
    }
   },
   "outputs": [
    {
     "name": "stdout",
     "output_type": "stream",
     "text": [
      "No configs found; falling back on auto-configuration\n",
      "No configs specified for hadoop runner\n",
      "Looking for hadoop binary in /opt/hadoop-3.3.6/bin...\n",
      "Found hadoop binary: /opt/hadoop-3.3.6/bin/hadoop\n",
      "Using Hadoop version 3.3.6\n",
      "Looking for Hadoop streaming jar in /opt/hadoop-3.3.6...\n",
      "Found Hadoop streaming jar: /opt/hadoop-3.3.6/share/hadoop/tools/lib/hadoop-streaming-3.3.6.jar\n",
      "Creating temp directory /tmp/wordcount_mrjob.root.20250227.144025.681485\n",
      "uploading working dir files to hdfs:///user/root/tmp/mrjob/wordcount_mrjob.root.20250227.144025.681485/files/wd...\n",
      "Copying other local files to hdfs:///user/root/tmp/mrjob/wordcount_mrjob.root.20250227.144025.681485/files/\n",
      "Running step 1 of 1...\n",
      "  packageJobJar: [/tmp/hadoop-unjar2079528593865414550/] [] /tmp/streamjob1655272113085767177.jar tmpDir=null\n",
      "  Connecting to ResourceManager at resourcemanager/172.18.0.5:8032\n",
      "  Connecting to Application History server at historyserver/172.18.0.6:10200\n",
      "  Connecting to ResourceManager at resourcemanager/172.18.0.5:8032\n",
      "  Connecting to Application History server at historyserver/172.18.0.6:10200\n",
      "  Disabling Erasure Coding for path: /tmp/hadoop-yarn/staging/root/.staging/job_1740649645876_0012\n",
      "  Total input files to process : 1\n",
      "  number of splits:2\n",
      "  Submitting tokens for job: job_1740649645876_0012\n",
      "  Executing with tokens: []\n",
      "  resource-types.xml not found\n",
      "  Unable to find 'resource-types.xml'.\n",
      "  Submitted application application_1740649645876_0012\n",
      "  The url to track the job: http://resourcemanager:8088/proxy/application_1740649645876_0012/\n",
      "  Running job: job_1740649645876_0012\n",
      "  Job job_1740649645876_0012 running in uber mode : false\n",
      "   map 0% reduce 0%\n",
      "   map 50% reduce 0%\n",
      "   map 100% reduce 0%\n",
      "   map 100% reduce 100%\n",
      "  Job job_1740649645876_0012 completed successfully\n",
      "  Output directory: hdfs:///user/bigdata/MapReduce/output_py\n",
      "Counters: 54\n",
      "\tFile Input Format Counters \n",
      "\t\tBytes Read=162\n",
      "\tFile Output Format Counters \n",
      "\t\tBytes Written=141\n",
      "\tFile System Counters\n",
      "\t\tFILE: Number of bytes read=140\n",
      "\t\tFILE: Number of bytes written=852174\n",
      "\t\tFILE: Number of large read operations=0\n",
      "\t\tFILE: Number of read operations=0\n",
      "\t\tFILE: Number of write operations=0\n",
      "\t\tHDFS: Number of bytes read=372\n",
      "\t\tHDFS: Number of bytes read erasure-coded=0\n",
      "\t\tHDFS: Number of bytes written=141\n",
      "\t\tHDFS: Number of large read operations=0\n",
      "\t\tHDFS: Number of read operations=11\n",
      "\t\tHDFS: Number of write operations=2\n",
      "\tJob Counters \n",
      "\t\tLaunched map tasks=2\n",
      "\t\tLaunched reduce tasks=1\n",
      "\t\tRack-local map tasks=2\n",
      "\t\tTotal megabyte-milliseconds taken by all map tasks=29216768\n",
      "\t\tTotal megabyte-milliseconds taken by all reduce tasks=15073280\n",
      "\t\tTotal time spent by all map tasks (ms)=7133\n",
      "\t\tTotal time spent by all maps in occupied slots (ms)=28532\n",
      "\t\tTotal time spent by all reduce tasks (ms)=1840\n",
      "\t\tTotal time spent by all reduces in occupied slots (ms)=14720\n",
      "\t\tTotal vcore-milliseconds taken by all map tasks=7133\n",
      "\t\tTotal vcore-milliseconds taken by all reduce tasks=1840\n",
      "\tMap-Reduce Framework\n",
      "\t\tCPU time spent (ms)=1440\n",
      "\t\tCombine input records=0\n",
      "\t\tCombine output records=0\n",
      "\t\tFailed Shuffles=0\n",
      "\t\tGC time elapsed (ms)=270\n",
      "\t\tInput split bytes=210\n",
      "\t\tMap input records=5\n",
      "\t\tMap output bytes=176\n",
      "\t\tMap output materialized bytes=146\n",
      "\t\tMap output records=18\n",
      "\t\tMerged Map outputs=2\n",
      "\t\tPeak Map Physical memory (bytes)=256032768\n",
      "\t\tPeak Map Virtual memory (bytes)=5040881664\n",
      "\t\tPeak Reduce Physical memory (bytes)=258506752\n",
      "\t\tPeak Reduce Virtual memory (bytes)=8384888832\n",
      "\t\tPhysical memory (bytes) snapshot=770347008\n",
      "\t\tReduce input groups=15\n",
      "\t\tReduce input records=18\n",
      "\t\tReduce output records=15\n",
      "\t\tReduce shuffle bytes=146\n",
      "\t\tShuffled Maps =2\n",
      "\t\tSpilled Records=36\n",
      "\t\tTotal committed heap usage (bytes)=552075264\n",
      "\t\tVirtual memory (bytes) snapshot=18466316288\n",
      "\tShuffle Errors\n",
      "\t\tBAD_ID=0\n",
      "\t\tCONNECTION=0\n",
      "\t\tIO_ERROR=0\n",
      "\t\tWRONG_LENGTH=0\n",
      "\t\tWRONG_MAP=0\n",
      "\t\tWRONG_REDUCE=0\n",
      "job output is in hdfs:///user/bigdata/MapReduce/output_py\n",
      "Removing HDFS temp directory hdfs:///user/root/tmp/mrjob/wordcount_mrjob.root.20250227.144025.681485...\n",
      "Removing temp directory /tmp/wordcount_mrjob.root.20250227.144025.681485...\n"
     ]
    }
   ],
   "source": [
    "!python3 wordcount_mrjob.py -r hadoop hdfs:///user/bigdata/MapReduce/input.txt -o hdfs:///user/bigdata/MapReduce/output_py"
   ]
  },
  {
   "cell_type": "markdown",
   "metadata": {},
   "source": [
    "De bovenstaande manier vereist echter dat je steeds een python-file aanmaakt die dan via commandline gestart wordt.\n",
    "De reden hiervoor is is dat **de file naar de cluster verstuurd wordt**.\n",
    "Om de output te bekijken kan het output.txt bestand gedownload en uitgeprint worden als volgt:"
   ]
  },
  {
   "cell_type": "code",
   "execution_count": 18,
   "metadata": {},
   "outputs": [
    {
     "name": "stdout",
     "output_type": "stream",
     "text": [
      "\"!\"\t1\n",
      "\"Dit\"\t1\n",
      "\"Hello\"\t1\n",
      "\"Wordcount\"\t1\n",
      "\"World,\"\t1\n",
      "\"een\"\t1\n",
      "\"file\"\t1\n",
      "\"hello\"\t2\n",
      "\"het\"\t1\n",
      "\"is\"\t1\n",
      "\"om\"\t1\n",
      "\"te\"\t1\n",
      "\"testen\"\t1\n",
      "\"voorbeeld\"\t2\n",
      "\"world,\"\t2\n",
      "\n"
     ]
    }
   ],
   "source": [
    "with client.read(map + '/output_py/part-00000') as reader:\n",
    "    content = reader.read()\n",
    "    print(content.decode('utf-8'))"
   ]
  },
  {
   "cell_type": "markdown",
   "metadata": {},
   "source": [
    "## Oefeningen\n",
    "\n",
    "Maak de nodige mapreduce applicaties voor de volgende zaken te berekenen (je moet de output niet bewaren in een file):\n",
    "* De gemiddelde woordlengte\n",
    "* Het aantal keer dat elk karakter voorkomt\n",
    "* Het aantal woorden dat begint met elke letter\n",
    "* Het aantal woorden in de tekst\n",
    "\n",
    "Als een applicatie crasht, kan het zijn dat ze op de cluster nog een hele tijd actief blijft en het starten van nieuwe applicaties kan tegenhouden.\n",
    "Met onderstaande commando kan je een bestande applicatie afsluiten/killen"
   ]
  },
  {
   "cell_type": "code",
   "execution_count": null,
   "metadata": {},
   "outputs": [],
   "source": [
    "# killen van een applicatie\n",
    "yarn application -kill <Application_ID>\n",
    "# appliation id kan je vinden via de webbrowser van yarn (localhost:8088)"
   ]
  },
  {
   "cell_type": "code",
   "execution_count": 32,
   "metadata": {},
   "outputs": [
    {
     "name": "stdout",
     "output_type": "stream",
     "text": [
      "Overwriting vraag1.py\n"
     ]
    }
   ],
   "source": [
    "%%file vraag1.py\n",
    "# vraag 1: gemiddelde woordlengte\n",
    "from mrjob.job import MRJob\n",
    "\n",
    "class Vraag1(MRJob):\n",
    "    def mapper(self, _, line):\n",
    "        for word in line.split():\n",
    "            yield (\"lengte\", len(word)) # emit zelfde key voor alle woorden want de gemiddelde is over alle woorden\n",
    "\n",
    "    def reducer(self, word, counts):\n",
    "        # counts is geen list maar een generator (iterator) -> maak er een list van om problemen te vermijden met len of meerdere keren te gebruiken\n",
    "        counts = list(counts)\n",
    "        aantal = len(counts)\n",
    "        totaal = sum(counts)\n",
    "        yield(word, totaal/aantal)\n",
    "\n",
    "if __name__ == '__main__':\n",
    "    Vraag1.run()"
   ]
  },
  {
   "cell_type": "code",
   "execution_count": 31,
   "metadata": {},
   "outputs": [
    {
     "name": "stdout",
     "output_type": "stream",
     "text": [
      "No configs found; falling back on auto-configuration\n",
      "No configs specified for inline runner\n",
      "Creating temp directory /tmp/vraag1.root.20250227.152806.438391\n",
      "Running step 1 of 1...\n",
      "job output is in /tmp/vraag1.root.20250227.152806.438391/output\n",
      "Streaming final output from /tmp/vraag1.root.20250227.152806.438391/output...\n",
      "\"wordmean\"\t4.777777777777778\n",
      "Removing temp directory /tmp/vraag1.root.20250227.152806.438391...\n"
     ]
    }
   ],
   "source": [
    "# test vraag 1\n",
    "!python3 vraag1.py input.txt"
   ]
  },
  {
   "cell_type": "code",
   "execution_count": 35,
   "metadata": {},
   "outputs": [
    {
     "name": "stdout",
     "output_type": "stream",
     "text": [
      "Overwriting vraag2.py\n"
     ]
    }
   ],
   "source": [
    "%%file vraag2.py\n",
    "# vraag 2: het aantal keer dat elk karakter voorkomt\n",
    "from mrjob.job import MRJob\n",
    "\n",
    "class Vraag2(MRJob):\n",
    "    def mapper(self, _, line):\n",
    "        for word in line:\n",
    "            #yield (word, 1) # emit zelfde key voor alle woorden want de gemiddelde is over alle woorden\n",
    "            # stel bijvoorbeeld dat er bijkomstig gevraagd was om hoofd- en kleine letters samen te tellen\n",
    "            yield (word.lower(), 1)\n",
    "\n",
    "    def reducer(self, word, counts):\n",
    "        yield(word, sum(counts))\n",
    "\n",
    "if __name__ == '__main__':\n",
    "    Vraag2.run()"
   ]
  },
  {
   "cell_type": "code",
   "execution_count": 36,
   "metadata": {},
   "outputs": [
    {
     "name": "stdout",
     "output_type": "stream",
     "text": [
      "No configs found; falling back on auto-configuration\n",
      "No configs specified for inline runner\n",
      "Creating temp directory /tmp/vraag2.root.20250227.153324.487106\n",
      "Running step 1 of 1...\n",
      "job output is in /tmp/vraag2.root.20250227.153324.487106/output\n",
      "Streaming final output from /tmp/vraag2.root.20250227.153324.487106/output...\n",
      "\"b\"\t2\n",
      "\"c\"\t1\n",
      "\"w\"\t4\n",
      "\"d\"\t7\n",
      "\"u\"\t1\n",
      "\"v\"\t2\n",
      "\"m\"\t1\n",
      "\"n\"\t3\n",
      "\"o\"\t13\n",
      "\"i\"\t3\n",
      "\"s\"\t2\n",
      "\"t\"\t6\n",
      "\"!\"\t1\n",
      "\",\"\t3\n",
      "\" \"\t14\n",
      "\"r\"\t6\n",
      "\"l\"\t12\n",
      "\"f\"\t1\n",
      "\"h\"\t4\n",
      "\"e\"\t14\n",
      "Removing temp directory /tmp/vraag2.root.20250227.153324.487106...\n"
     ]
    }
   ],
   "source": [
    "# test vraag 2\n",
    "!python3 vraag2.py input.txt"
   ]
  },
  {
   "cell_type": "code",
   "execution_count": 42,
   "metadata": {},
   "outputs": [
    {
     "name": "stdout",
     "output_type": "stream",
     "text": [
      "Overwriting vraag3.py\n"
     ]
    }
   ],
   "source": [
    "%%file vraag3.py\n",
    "# vraag 3: * Het aantal woorden dat begint met elke letter\n",
    "from mrjob.job import MRJob\n",
    "\n",
    "class Vraag3(MRJob):\n",
    "    # de _ is eigenlijk dat het niet belangrijk is (je filename, object) -> wordt niet gebruikt\n",
    "    # de line = is 1 lijn van je bestand\n",
    "    def mapper(self, _, line):\n",
    "        for word in line.split():\n",
    "            yield (word[0], 1) # emit zelfde key voor alle woorden want de gemiddelde is over alle woorden\n",
    "    # in je mapper emit je een aantal key-value paren bvb [(word1, 1), (word2, 1), (word1, 1)]\n",
    "\n",
    "    # je reducer wordt met bovenstaande voorbeeld twee keer opgeroepen\n",
    "    # eerste keer met key = word1 en counts = [1, 1]\n",
    "    # tweede keer met key = word2 en counts = [1]\n",
    "    def reducer(self, key, counts):\n",
    "        # counts is geen list maar een generator (iterator) -> maak er een list van om problemen te vermijden met len of meerdere keren te gebruiken\n",
    "        yield(key, sum(counts))\n",
    "    # in je redicer emit je een aantal key-value paren bvb [(word1, 2), (word2, 1)]\n",
    "    # je output is dan \n",
    "    # word1 2\n",
    "    # word2 1\n",
    "\n",
    "if __name__ == '__main__':\n",
    "    Vraag3.run()"
   ]
  },
  {
   "cell_type": "code",
   "execution_count": 43,
   "metadata": {},
   "outputs": [
    {
     "name": "stdout",
     "output_type": "stream",
     "text": [
      "No configs found; falling back on auto-configuration\n",
      "No configs specified for inline runner\n",
      "Creating temp directory /tmp/vraag3.root.20250227.154247.803184\n",
      "Running step 1 of 1...\n",
      "job output is in /tmp/vraag3.root.20250227.154247.803184/output\n",
      "Streaming final output from /tmp/vraag3.root.20250227.154247.803184/output...\n",
      "\"H\"\t1\n",
      "\"W\"\t2\n",
      "\"o\"\t1\n",
      "\"t\"\t2\n",
      "\"h\"\t3\n",
      "\"w\"\t2\n",
      "\"D\"\t1\n",
      "\"!\"\t1\n",
      "\"v\"\t2\n",
      "\"i\"\t1\n",
      "\"f\"\t1\n",
      "\"e\"\t1\n",
      "Removing temp directory /tmp/vraag3.root.20250227.154247.803184...\n"
     ]
    }
   ],
   "source": [
    "# test vraag 3\n",
    "!python3 vraag3.py input.txt"
   ]
  },
  {
   "cell_type": "code",
   "execution_count": 48,
   "metadata": {},
   "outputs": [
    {
     "name": "stdout",
     "output_type": "stream",
     "text": [
      "Overwriting vraag4.py\n"
     ]
    }
   ],
   "source": [
    "%%file vraag4.py\n",
    "# vraag 4: Het aantal woorden in de tekst\n",
    "from mrjob.job import MRJob\n",
    "\n",
    "class Vraag4(MRJob):\n",
    "    def mapper(self, _, line):\n",
    "        yield (\"aantal woorden\", len(line.split())) # je kan ook meer dan enkel 1-tjes gaan emitten\n",
    "\n",
    "    def reducer(self, key, counts):\n",
    "        yield(key, sum(counts))\n",
    "\n",
    "if __name__ == '__main__':\n",
    "    Vraag4.run()"
   ]
  },
  {
   "cell_type": "code",
   "execution_count": 49,
   "metadata": {},
   "outputs": [
    {
     "name": "stdout",
     "output_type": "stream",
     "text": [
      "No configs found; falling back on auto-configuration\n",
      "No configs specified for inline runner\n",
      "Creating temp directory /tmp/vraag4.root.20250227.154526.310674\n",
      "Running step 1 of 1...\n",
      "job output is in /tmp/vraag4.root.20250227.154526.310674/output\n",
      "Streaming final output from /tmp/vraag4.root.20250227.154526.310674/output...\n",
      "\"aantal woorden\"\t18\n",
      "Removing temp directory /tmp/vraag4.root.20250227.154526.310674...\n"
     ]
    }
   ],
   "source": [
    "# test vraag 4\n",
    "!python3 vraag4.py input.txt"
   ]
  },
  {
   "cell_type": "markdown",
   "metadata": {},
   "source": [
    "## Werken met MapReduce voor gestructureerde data\n",
    "\n",
    "Mapreduce kan ook gebruikt worden om te werken met gestructureerde data (bijvoorbeeld een csv) waar elke rij 1 data-element voorsteld.\n",
    "Het is hier echter wel belangrijk dat alle data op 1 lijn gecombineerd wordt dus multiline csv's, jsons of xml bestanden kunnen niet verwerkt worden.\n",
    "\n",
    "Onderstaande code is een voorbeeld voor hoe je een csv kan uitlezen en een aantal statistieken kan berekenen. Hierin leer je vooral:\n",
    "* Hoe de csv lijn per lijn te verwerken en kolommen te detecteren\n",
    "* Hoe de header rij eruit filteren\n",
    "* Hoe meerdere berekeningen op een iterator te doen\n",
    "\n",
    "We gebruiken hiervoor de titanic.csv file. Let op dat die naam van de passagier hierbij komma's kan bevatten dus dit vereist wat extra aandacht.\n",
    "Daarnaast gebruiken we de lokale versie van het bestand en niet de geuploadde versie.\n",
    "\n",
    "We willen de volgende zaken berekenen door middel van 1 map-reduce applicatie:\n",
    "* Gemiddelde leeftijd\n",
    "* Percentage overleeft\n",
    "* Percentage mannelijke passagiers\n",
    "* Percentage vrouwelijke passagiers die het overleefd hebben: 30% betekend dat 30% van de vrouwelijke passagiers het overleefd hebben"
   ]
  },
  {
   "cell_type": "code",
   "execution_count": 86,
   "metadata": {},
   "outputs": [
    {
     "name": "stdout",
     "output_type": "stream",
     "text": [
      "Overwriting structured.py\n"
     ]
    }
   ],
   "source": [
    "%%file structured.py\n",
    "from mrjob.job import MRJob\n",
    "import csv\n",
    "from io import StringIO\n",
    "\n",
    "col_survived = 1\n",
    "col_gender = 4\n",
    "col_age = 5\n",
    "\n",
    "class MRStructured(MRJob):\n",
    "    def mapper(self, _, line):\n",
    "\n",
    "        if line == 'PassengerId,Survived,Pclass,Name,Sex,Age,SibSp,Parch,Ticket,Fare,Cabin,Embarked':\n",
    "            return # verwerk de headerrij niet\n",
    "        \n",
    "        csv_file = StringIO(line) # maak een csv_file van de string\n",
    "        cols = next(csv.reader(csv_file)) # zet de csv_file om naar kolommen -> vermijd problemen met parsen (komma's in namen)\n",
    "\n",
    "        if cols[col_age] != '':\n",
    "            yield('leeftijd', float(cols[col_age]))\n",
    "\n",
    "        if cols[col_survived] != '':\n",
    "            yield('overleefd', float(cols[col_survived]))\n",
    "            \n",
    "        if cols[col_gender] != '':\n",
    "            yield('mannelijke passagiers', float(cols[col_gender] == 'male'))\n",
    "\n",
    "        if cols[col_gender] == 'female' and cols[col_survived] != '':\n",
    "            yield('vrouw overleefd', float(cols[col_survived]))\n",
    "                \n",
    "                \n",
    "        \n",
    "\n",
    "    def reducer(self, key, counts):\n",
    "        if key == 'leeftijd':\n",
    "            # bereken gemiddelde\n",
    "            counts = list(counts)\n",
    "            aantal = len(counts)\n",
    "            totaal = sum(counts)\n",
    "            yield(key, totaal/aantal)\n",
    "            yield(key + \"_aantal\", aantal) # aantal passagiers waar de leeftijd ingevuld was\n",
    "        elif key == 'overleefd' or key == 'mannelijke passagiers' or key == 'vrouw overleefd':\n",
    "            # bereken gemiddelde en doe maal 100\n",
    "            counts = list(counts)\n",
    "            aantal = len(counts)\n",
    "            totaal = sum(counts)\n",
    "            yield(key, f\"{totaal/aantal * 100} %\")\n",
    "\n",
    "if __name__ == '__main__':\n",
    "    MRStructured.run()"
   ]
  },
  {
   "cell_type": "code",
   "execution_count": 87,
   "metadata": {},
   "outputs": [
    {
     "name": "stdout",
     "output_type": "stream",
     "text": [
      "No configs found; falling back on auto-configuration\n",
      "No configs specified for inline runner\n",
      "Creating temp directory /tmp/structured.root.20250227.160544.987164\n",
      "Running step 1 of 1...\n",
      "job output is in /tmp/structured.root.20250227.160544.987164/output\n",
      "Streaming final output from /tmp/structured.root.20250227.160544.987164/output...\n",
      "\"overleefd\"\t\"38.38383838383838 %\"\n",
      "\"vrouw overleefd\"\t\"74.20382165605095 %\"\n",
      "\"mannelijke passagiers\"\t\"64.75869809203144 %\"\n",
      "\"leeftijd\"\t29.69911764705882\n",
      "\"leeftijd_aantal\"\t714\n",
      "Removing temp directory /tmp/structured.root.20250227.160544.987164...\n"
     ]
    }
   ],
   "source": [
    "# test structured\n",
    "!python3 structured.py titanic.csv"
   ]
  },
  {
   "cell_type": "markdown",
   "metadata": {},
   "source": [
    "## Debugging\n",
    "\n",
    "Indien er een python script voor een map-reduce applicatie een error bevat is het niet altijd eenvoudig om de specifieke foutmelding te vinden. Dit is vooral merkbaar als we een runtime errors.\n",
    "Indien we in het voorgaande script de beveiligingen rond het casten van empty strings verwijderen. Dan krijgen we foutmeldingen. Indien we ditzelfde nu uitvoeren (maar uitvoeren op de cluster in plaats van lokaal in tegenstelling tot het voorgaande commando), dan krijgen we geen duidelijke foutmelding."
   ]
  },
  {
   "cell_type": "code",
   "execution_count": null,
   "metadata": {},
   "outputs": [],
   "source": [
    "%%file structured_error.py"
   ]
  },
  {
   "cell_type": "code",
   "execution_count": null,
   "metadata": {},
   "outputs": [],
   "source": [
    "# Er zijn drie manieren om te debuggen en ik raad het volgende aan\n",
    "# Werk eerst lokaal (zonder de -r en -o in het commando)\n",
    "# Laat het dan werken met de cluster gebruik de file op het hdfs\n",
    "# Als er dan nog fouten zijn, zijn er twee manieren om te debuggen\n",
    "    # gebruik de historyserver (let op dat je domainnaam verandert naar localhost bij een dns-error)\n",
    "    # gebruik het commando hieronder (na invullen van het application id)"
   ]
  },
  {
   "cell_type": "markdown",
   "metadata": {},
   "source": [
    "Na het uitvoeren van bovenstaande script, dan zie je dat de applicatie gestart wordt (map 0% reduce 0%) maar een duideljke foutmelding is er niet (run time exception).\n",
    "Om de logs te bekijken kan je \n",
    "* surfen gaan naar de historyserver die beschikbaar is op de url: localhost:8188\n",
    "* het volgende command-line commando uitvoeren. Dit haalt alle std-err logs van alle containers op. Zoek naar een python error en je zal vinden wat er misgaat.\n",
    "* een python script schrijven om de yarn log-server te bevragen"
   ]
  },
  {
   "cell_type": "code",
   "execution_count": 88,
   "metadata": {},
   "outputs": [
    {
     "name": "stdout",
     "output_type": "stream",
     "text": [
      "2025-02-27 16:10:09,521 INFO client.DefaultNoHARMFailoverProxyProvider: Connecting to ResourceManager at resourcemanager/172.18.0.5:8032\n",
      "2025-02-27 16:10:09,749 INFO client.AHSProxy: Connecting to Application History server at historyserver/172.18.0.6:10200\n",
      "LogType:stderr\n",
      "LogLastModifiedTime:Thu Feb 27 14:41:02 +0000 2025\n",
      "LogLength:1724\n",
      "LogContents:\n",
      "Feb 27, 2025 2:40:42 PM com.sun.jersey.guice.spi.container.GuiceComponentProviderFactory register\n",
      "INFO: Registering org.apache.hadoop.mapreduce.v2.app.webapp.JAXBContextResolver as a provider class\n",
      "Feb 27, 2025 2:40:42 PM com.sun.jersey.guice.spi.container.GuiceComponentProviderFactory register\n",
      "INFO: Registering org.apache.hadoop.yarn.webapp.GenericExceptionHandler as a provider class\n",
      "Feb 27, 2025 2:40:42 PM com.sun.jersey.guice.spi.container.GuiceComponentProviderFactory register\n",
      "INFO: Registering org.apache.hadoop.mapreduce.v2.app.webapp.AMWebServices as a root resource class\n",
      "Feb 27, 2025 2:40:42 PM com.sun.jersey.server.impl.application.WebApplicationImpl _initiate\n",
      "INFO: Initiating Jersey application, version 'Jersey: 1.19.4 05/24/2017 03:20 PM'\n",
      "Feb 27, 2025 2:40:43 PM com.sun.jersey.guice.spi.container.GuiceComponentProviderFactory getComponentProvider\n",
      "INFO: Binding org.apache.hadoop.mapreduce.v2.app.webapp.JAXBContextResolver to GuiceManagedComponentProvider with the scope \"Singleton\"\n",
      "Feb 27, 2025 2:40:43 PM com.sun.jersey.guice.spi.container.GuiceComponentProviderFactory getComponentProvider\n",
      "INFO: Binding org.apache.hadoop.yarn.webapp.GenericExceptionHandler to GuiceManagedComponentProvider with the scope \"Singleton\"\n",
      "Feb 27, 2025 2:40:43 PM com.sun.jersey.guice.spi.container.GuiceComponentProviderFactory getComponentProvider\n",
      "INFO: Binding org.apache.hadoop.mapreduce.v2.app.webapp.AMWebServices to GuiceManagedComponentProvider with the scope \"PerRequest\"\n",
      "log4j:WARN No appenders could be found for logger (org.apache.hadoop.mapreduce.v2.app.MRAppMaster).\n",
      "log4j:WARN Please initialize the log4j system properly.\n",
      "log4j:WARN See http://logging.apache.org/log4j/1.2/faq.html#noconfig for more info.\n",
      "\n",
      "End of LogType:stderr\n",
      "LogType:stderr\n",
      "LogLastModifiedTime:Thu Feb 27 14:41:02 +0000 2025\n",
      "LogLength:556\n",
      "LogContents:\n",
      "+ __mrjob_PWD=/tmp/hadoop-root/nm-local-dir/usercache/root/appcache/application_1740649645876_0012/container_e04_1740649645876_0012_01_000002\n",
      "+ exec\n",
      "+ python3 -c import fcntl; fcntl.flock(9, fcntl.LOCK_EX)\n",
      "+ export PYTHONPATH=/tmp/hadoop-root/nm-local-dir/usercache/root/appcache/application_1740649645876_0012/container_e04_1740649645876_0012_01_000002/mrjob.zip:\n",
      "+ exec\n",
      "+ cd /tmp/hadoop-root/nm-local-dir/usercache/root/appcache/application_1740649645876_0012/container_e04_1740649645876_0012_01_000002\n",
      "+ python3 wordcount_mrjob.py --step-num=0 --mapper\n",
      "\n",
      "End of LogType:stderr\n",
      "LogType:stderr\n",
      "LogLastModifiedTime:Thu Feb 27 14:41:02 +0000 2025\n",
      "LogLength:556\n",
      "LogContents:\n",
      "+ __mrjob_PWD=/tmp/hadoop-root/nm-local-dir/usercache/root/appcache/application_1740649645876_0012/container_e04_1740649645876_0012_01_000003\n",
      "+ exec\n",
      "+ python3 -c import fcntl; fcntl.flock(9, fcntl.LOCK_EX)\n",
      "+ export PYTHONPATH=/tmp/hadoop-root/nm-local-dir/usercache/root/appcache/application_1740649645876_0012/container_e04_1740649645876_0012_01_000003/mrjob.zip:\n",
      "+ exec\n",
      "+ cd /tmp/hadoop-root/nm-local-dir/usercache/root/appcache/application_1740649645876_0012/container_e04_1740649645876_0012_01_000003\n",
      "+ python3 wordcount_mrjob.py --step-num=0 --mapper\n",
      "\n",
      "End of LogType:stderr\n",
      "LogType:stderr\n",
      "LogLastModifiedTime:Thu Feb 27 14:41:02 +0000 2025\n",
      "LogLength:557\n",
      "LogContents:\n",
      "+ __mrjob_PWD=/tmp/hadoop-root/nm-local-dir/usercache/root/appcache/application_1740649645876_0012/container_e04_1740649645876_0012_01_000004\n",
      "+ exec\n",
      "+ python3 -c import fcntl; fcntl.flock(9, fcntl.LOCK_EX)\n",
      "+ export PYTHONPATH=/tmp/hadoop-root/nm-local-dir/usercache/root/appcache/application_1740649645876_0012/container_e04_1740649645876_0012_01_000004/mrjob.zip:\n",
      "+ exec\n",
      "+ cd /tmp/hadoop-root/nm-local-dir/usercache/root/appcache/application_1740649645876_0012/container_e04_1740649645876_0012_01_000004\n",
      "+ python3 wordcount_mrjob.py --step-num=0 --reducer\n",
      "\n",
      "End of LogType:stderr\n"
     ]
    }
   ],
   "source": [
    "!yarn logs -applicationId application_1740649645876_0012 | sed -n '/LogType:stderr/,/End of LogType:stderr/p'"
   ]
  },
  {
   "cell_type": "markdown",
   "metadata": {},
   "source": [
    "## Afsluitende opmerkingen\n",
    "\n",
    "Het is belangrijk om te beseffen dat deze applicatie op meerdere nodes kan tegelijkertijd uitgevoerd worden. \n",
    "Dit heeft als gevolg dat je geen persistente counters kan toevoegen in de reducer om gemiddelden en dergelijke te berekenen.\n",
    "Een globaal overzicht van het dataframe kan maar **in de mapper** behaald worden.\n",
    "\n",
    "Daarnaast is er nog een andere stap mogelijk dan mapper of reducer. Dat is **de combiner** stap. Dit is een stap die runt per node en gebruikt kan worden om al wat combinaties te doen zodat er minder data tussen nodes moet verstuurd worden. In grote applicaties/datasets kan dit heel wat internettrafiek besparen wat de werking van de cluster ten goede komt.\n",
    "\n",
    "Ten derde is het ook mogelijk om meerdere stappen te definieren in de mrjob applicatie. Dit kan door de steps functie te implementeren en daar elke stap in te definieren. Elke stap hierin kan beschikken over een eigen mapper/reducer en combiner functie. Meer informatie vind je [in de documentatie](https://mrjob.readthedocs.io/en/latest/guides/quickstart.html#writing-your-second-job)\n",
    "\n",
    "## Verdere oefeningen\n",
    "\n",
    "Gebruik nu de titanic csv om met behulp van een mapreduce applicatie de volgende zaken te berekenen:\n",
    "* Het aantal unieke plaatsen waar personen aan boord zijn gekomen (embarked kolom)\n",
    "* Het aantal ontbrekende waarden in de Cabin kolom\n",
    "* De volgende statistische waarden voor de ticketprijs (Fare) kolom: min, max, mean, std\n",
    "* De langste naam van een passagier\n",
    "* Het aantal passagiers per klasse\n",
    "* Het totaal aantal passagiers op de titanic"
   ]
  },
  {
   "cell_type": "code",
   "execution_count": null,
   "metadata": {},
   "outputs": [],
   "source": [
    "%%file structured_oefening.py\n"
   ]
  },
  {
   "cell_type": "code",
   "execution_count": null,
   "metadata": {},
   "outputs": [],
   "source": []
  },
  {
   "cell_type": "code",
   "execution_count": null,
   "metadata": {},
   "outputs": [],
   "source": []
  }
 ],
 "metadata": {
  "kernelspec": {
   "display_name": "Python 3 (ipykernel)",
   "language": "python",
   "name": "python3"
  },
  "language_info": {
   "codemirror_mode": {
    "name": "ipython",
    "version": 3
   },
   "file_extension": ".py",
   "mimetype": "text/x-python",
   "name": "python",
   "nbconvert_exporter": "python",
   "pygments_lexer": "ipython3",
   "version": "3.10.12"
  }
 },
 "nbformat": 4,
 "nbformat_minor": 4
}
